{
 "cells": [
  {
   "cell_type": "code",
   "execution_count": 3,
   "metadata": {},
   "outputs": [
    {
     "name": "stdout",
     "output_type": "stream",
     "text": [
      "Imported module OK: <module 'ConvolutionalAE.models' from '/Users/louisg/PycharmProjects/m3-learning-m3_learning-dc4a2d5/LTSJ_exp/ConvolutionalAE/models.py'>\n",
      "Names in module: []\n"
     ]
    }
   ],
   "source": [
    "import importlib, traceback\n",
    "\n",
    "# 1 Import the module directly\n",
    "try:\n",
    "    cae = importlib.import_module(\"ConvolutionalAE.models\")\n",
    "    print(\"Imported module OK:\", cae)\n",
    "except Exception:\n",
    "    traceback.print_exc()\n",
    "\n",
    "# 2 List the names the module actually exports\n",
    "try:\n",
    "    print(\"Names in module:\", [n for n in dir(cae) if not n.startswith(\"_\")])\n",
    "except Exception:\n",
    "    traceback.print_exc()"
   ]
  },
  {
   "cell_type": "code",
   "execution_count": 5,
   "metadata": {},
   "outputs": [
    {
     "ename": "ImportError",
     "evalue": "cannot import name 'LitConvAutoencoder' from 'ConvolutionalAE.Convolutional_AE' (/Users/louisg/PycharmProjects/m3-learning-m3_learning-dc4a2d5/LTSJ_exp/ConvolutionalAE/Convolutional_AE.py)",
     "output_type": "error",
     "traceback": [
      "\u001b[0;31m---------------------------------------------------------------------------\u001b[0m",
      "\u001b[0;31mImportError\u001b[0m                               Traceback (most recent call last)",
      "Cell \u001b[0;32mIn[5], line 1\u001b[0m\n\u001b[0;32m----> 1\u001b[0m \u001b[38;5;28;01mimport\u001b[39;00m\u001b[38;5;250m \u001b[39m\u001b[38;5;21;01mConvolutionalAE\u001b[39;00m\u001b[38;5;241m,\u001b[39m\u001b[38;5;250m \u001b[39m\u001b[38;5;21;01minspect\u001b[39;00m\u001b[38;5;241m,\u001b[39m\u001b[38;5;250m \u001b[39m\u001b[38;5;21;01mtraceback\u001b[39;00m\n\u001b[1;32m      2\u001b[0m \u001b[38;5;28mprint\u001b[39m(\u001b[38;5;124m\"\u001b[39m\u001b[38;5;124mLoaded module from:\u001b[39m\u001b[38;5;124m\"\u001b[39m, ConvolutionalAE\u001b[38;5;241m.\u001b[39mConvolutional_AE\u001b[38;5;241m.\u001b[39m\u001b[38;5;18m__file__\u001b[39m)\n\u001b[1;32m      4\u001b[0m \u001b[38;5;28;01mtry\u001b[39;00m:\n",
      "File \u001b[0;32m~/PycharmProjects/m3-learning-m3_learning-dc4a2d5/LTSJ_exp/ConvolutionalAE/__init__.py:1\u001b[0m\n\u001b[0;32m----> 1\u001b[0m \u001b[38;5;28;01mfrom\u001b[39;00m\u001b[38;5;250m \u001b[39m\u001b[38;5;21;01m.\u001b[39;00m\u001b[38;5;21;01mConvolutional_AE\u001b[39;00m\u001b[38;5;250m \u001b[39m\u001b[38;5;28;01mimport\u001b[39;00m LitConvAutoencoder\n\u001b[1;32m      2\u001b[0m __all__ \u001b[38;5;241m=\u001b[39m [\u001b[38;5;124m\"\u001b[39m\u001b[38;5;124mLitConvAutoencoder\u001b[39m\u001b[38;5;124m\"\u001b[39m] \n",
      "\u001b[0;31mImportError\u001b[0m: cannot import name 'LitConvAutoencoder' from 'ConvolutionalAE.Convolutional_AE' (/Users/louisg/PycharmProjects/m3-learning-m3_learning-dc4a2d5/LTSJ_exp/ConvolutionalAE/Convolutional_AE.py)"
     ]
    }
   ],
   "source": [
    "import ConvolutionalAE, inspect, traceback\n",
    "print(\"Loaded module from:\", ConvolutionalAE.Convolutional_AE.__file__)\n",
    "\n",
    "try:\n",
    "    from ConvolutionalAE import LitConvAutoencoder\n",
    "except Exception:\n",
    "    traceback.print_exc()\n",
    "\n",
    "# List all public names that *did* load\n",
    "print([n for n in dir(ConvolutionalAE.Convolutional_AE) if not n.startswith(\"_\")])\n"
   ]
  },
  {
   "cell_type": "code",
   "execution_count": 4,
   "metadata": {},
   "outputs": [
    {
     "ename": "ImportError",
     "evalue": "cannot import name 'LitConvAutoencoder' from 'ConvolutionalAE.Convolutional_AE' (/Users/louisg/PycharmProjects/m3-learning-m3_learning-dc4a2d5/LTSJ_exp/ConvolutionalAE/Convolutional_AE.py)",
     "output_type": "error",
     "traceback": [
      "\u001b[0;31m---------------------------------------------------------------------------\u001b[0m",
      "\u001b[0;31mImportError\u001b[0m                               Traceback (most recent call last)",
      "Cell \u001b[0;32mIn[4], line 14\u001b[0m\n\u001b[1;32m     11\u001b[0m \u001b[38;5;28;01mfrom\u001b[39;00m\u001b[38;5;250m \u001b[39m\u001b[38;5;21;01mtorch\u001b[39;00m\u001b[38;5;21;01m.\u001b[39;00m\u001b[38;5;21;01mutils\u001b[39;00m\u001b[38;5;21;01m.\u001b[39;00m\u001b[38;5;21;01mdata\u001b[39;00m\u001b[38;5;250m \u001b[39m\u001b[38;5;28;01mimport\u001b[39;00m DataLoader\n\u001b[1;32m     13\u001b[0m \u001b[38;5;28;01mfrom\u001b[39;00m\u001b[38;5;250m \u001b[39m\u001b[38;5;21;01mm3_learning\u001b[39;00m\u001b[38;5;21;01m.\u001b[39;00m\u001b[38;5;21;01mnn\u001b[39;00m\u001b[38;5;21;01m.\u001b[39;00m\u001b[38;5;21;01mRegularization\u001b[39;00m\u001b[38;5;21;01m.\u001b[39;00m\u001b[38;5;21;01mRegularizers\u001b[39;00m\u001b[38;5;250m \u001b[39m\u001b[38;5;28;01mimport\u001b[39;00m ContrastiveLoss, DivergenceLoss\n\u001b[0;32m---> 14\u001b[0m \u001b[38;5;28;01mfrom\u001b[39;00m\u001b[38;5;250m \u001b[39m\u001b[38;5;21;01mConvolutionalAE\u001b[39;00m\u001b[38;5;21;01m.\u001b[39;00m\u001b[38;5;21;01mmodels\u001b[39;00m\u001b[38;5;250m \u001b[39m\u001b[38;5;28;01mimport\u001b[39;00m AutoEncoder, Encoder, Decoder\n",
      "File \u001b[0;32m~/PycharmProjects/m3-learning-m3_learning-dc4a2d5/LTSJ_exp/ConvolutionalAE/__init__.py:1\u001b[0m\n\u001b[0;32m----> 1\u001b[0m \u001b[38;5;28;01mfrom\u001b[39;00m\u001b[38;5;250m \u001b[39m\u001b[38;5;21;01m.\u001b[39;00m\u001b[38;5;21;01mConvolutional_AE\u001b[39;00m\u001b[38;5;250m \u001b[39m\u001b[38;5;28;01mimport\u001b[39;00m LitConvAutoencoder\n\u001b[1;32m      2\u001b[0m __all__ \u001b[38;5;241m=\u001b[39m [\u001b[38;5;124m\"\u001b[39m\u001b[38;5;124mLitConvAutoencoder\u001b[39m\u001b[38;5;124m\"\u001b[39m] \n",
      "\u001b[0;31mImportError\u001b[0m: cannot import name 'LitConvAutoencoder' from 'ConvolutionalAE.Convolutional_AE' (/Users/louisg/PycharmProjects/m3-learning-m3_learning-dc4a2d5/LTSJ_exp/ConvolutionalAE/Convolutional_AE.py)"
     ]
    }
   ],
   "source": [
    "from __future__ import annotations\n",
    "\n",
    "import math\n",
    "from typing import Any, List, Sequence\n",
    "\n",
    "import numpy as np\n",
    "import pytorch_lightning as pl\n",
    "import torch\n",
    "from torch import nn\n",
    "from torch.nn import functional as F\n",
    "from torch.utils.data import DataLoader\n",
    "\n",
    "from m3_learning.nn.Regularization.Regularizers import ContrastiveLoss, DivergenceLoss\n",
    "from ConvolutionalAE.models import AutoEncoder, Encoder"
   ]
  },
  {
   "cell_type": "code",
   "execution_count": 1,
   "metadata": {},
   "outputs": [
    {
     "name": "stdout",
     "output_type": "stream",
     "text": [
      "/Users/louisg/PycharmProjects/m3-learning-m3_learning-dc4a2d5/LTSJ_exp\n"
     ]
    }
   ],
   "source": [
    "from ConvolutionalAE import LitConvAutoencoder\n",
    "import pytorch_lightning as pl\n",
    "import os\n",
    "\n",
    "print(os.getcwd())\n",
    "\n",
    "model = LitConvAutoencoder(\n",
    "    encoder_step_size=[256, 128, 64],\n",
    "    pooling_list=[2, 2, 2],\n",
    "    decoder_step_size=[64, 128, 256],\n",
    "    upsampling_list=[2, 2, 2],\n",
    "    embedding_size=32,\n",
    "    conv_size=16,\n",
    "    learning_rate=3e-4,\n",
    "    coef_ln=1e-3,\n",
    "    coef_contrastive=1e-2,\n",
    "    coef_divergence=1e-2,\n",
    ")\n",
    "\n",
    "# trainer = pl.Trainer(max_epochs=100, accelerator=\"auto\")\n",
    "# trainer.fit(model, train_dataloader)"
   ]
  },
  {
   "cell_type": "code",
   "execution_count": 5,
   "metadata": {},
   "outputs": [],
   "source": [
    "import importlib, traceback\n",
    "try:\n",
    "    importlib.import_module(\"ConvolutionalAE.Convolutional_AE\")\n",
    "except Exception:\n",
    "    traceback.print_exc()\n"
   ]
  }
 ],
 "metadata": {
  "kernelspec": {
   "display_name": ".venv_dev",
   "language": "python",
   "name": "python3"
  },
  "language_info": {
   "codemirror_mode": {
    "name": "ipython",
    "version": 3
   },
   "file_extension": ".py",
   "mimetype": "text/x-python",
   "name": "python",
   "nbconvert_exporter": "python",
   "pygments_lexer": "ipython3",
   "version": "3.10.18"
  }
 },
 "nbformat": 4,
 "nbformat_minor": 2
}
